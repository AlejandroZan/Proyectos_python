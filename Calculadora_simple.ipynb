{
 "cells": [
  {
   "cell_type": "markdown",
   "metadata": {},
   "source": [
    "# Calculadora simple\n",
    "Pequeño script de una calculadora básica con las operaciones aritméticas simples."
   ]
  },
  {
   "cell_type": "code",
   "execution_count": 1,
   "metadata": {},
   "outputs": [
    {
     "name": "stdout",
     "output_type": "stream",
     "text": [
      "Operaciones de Calculadora Simple\n",
      "1. Suma\n",
      "2. Resta\n",
      "3. Multiplicación\n",
      "4. División\n",
      "5. Apagar calculadora\n",
      "La suma de los números es:10.00\n",
      "Calculadora apagada, gracias por utilizarla.\n"
     ]
    }
   ],
   "source": [
    "print('Operaciones de Calculadora Simple')\n",
    "print('1. Suma')\n",
    "print('2. Resta')\n",
    "print('3. Multiplicación')\n",
    "print('4. División')\n",
    "print('5. Apagar calculadora')\n",
    "\n",
    "while True:\n",
    "    try:\n",
    "        Pregunta = int(input('Seleccione el número de la operación que necesitas: '))\n",
    "\n",
    "        if Pregunta == 1 or Pregunta == 2 or Pregunta == 3 or Pregunta == 4:\n",
    "            num1 = float(input('Ingrese el primer número: '))\n",
    "            num2 = float(input('Ingrese el segundo número: '))\n",
    "\n",
    "            if Pregunta == 1:\n",
    "                respuesta = num1 + num2\n",
    "                print(f'La suma de los números es:{respuesta:,.2f}')\n",
    "\n",
    "            elif Pregunta == 2:\n",
    "                respuesta = num1 - num2\n",
    "                print(f'La resta de los números es: {respuesta:,.2f}')\n",
    "            elif Pregunta == 3:\n",
    "                respuesta = num1 * num2\n",
    "                print(f'La multiplicación de los números es: {respuesta:,.2f}')\n",
    "            elif Pregunta == 4:\n",
    "                try:\n",
    "                    respuesta = num1 / num2\n",
    "                    print(f'La divisón de los números es: {respuesta:,.2f}')\n",
    "                except ZeroDivisionError:\n",
    "                    print('Error: No se puede dividir entre cero.')\n",
    "\n",
    "        elif Pregunta == 5:\n",
    "            print('Calculadora apagada, gracias por utilizarla.')\n",
    "            break\n",
    "\n",
    "        else:\n",
    "            print('No esta seleccionando un número de opción valido, verificar (solo de 1 a 5)')\n",
    "\n",
    "        continuar = input('¿Desea realizar otra operación? (s/n)')\n",
    "        if continuar != 's':\n",
    "            print('Calculadora apagada, gracias por utilizarla.')\n",
    "            break\n",
    "  \n",
    "    except ValueError:\n",
    "        print('Esta ingresando letra y no número de opción, verificar')\n",
    "\n",
    "    \n",
    "\n"
   ]
  }
 ],
 "metadata": {
  "kernelspec": {
   "display_name": "Python 3",
   "language": "python",
   "name": "python3"
  },
  "language_info": {
   "codemirror_mode": {
    "name": "ipython",
    "version": 3
   },
   "file_extension": ".py",
   "mimetype": "text/x-python",
   "name": "python",
   "nbconvert_exporter": "python",
   "pygments_lexer": "ipython3",
   "version": "3.12.2"
  }
 },
 "nbformat": 4,
 "nbformat_minor": 2
}
