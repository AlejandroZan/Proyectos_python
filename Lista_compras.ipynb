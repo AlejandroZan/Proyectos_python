{
 "cells": [
  {
   "cell_type": "markdown",
   "metadata": {},
   "source": [
    "# Lista de compras\n",
    "Script de programa para elaborar una lista de compras donde permita: agregar productos y mostrar la lista ordenada."
   ]
  },
  {
   "cell_type": "code",
   "execution_count": 2,
   "metadata": {},
   "outputs": [
    {
     "name": "stdout",
     "output_type": "stream",
     "text": [
      "Escribe 1 para ingresar producto y cantidad.\n",
      "Escribe 2 para imprimir tu lista y salir.\n",
      "Se agregó: Manzanas - 3\n",
      "Escribe 1 para ingresar producto y cantidad.\n",
      "Escribe 2 para imprimir tu lista y salir.\n",
      "Se agregó: Peras - 4\n",
      "Escribe 1 para ingresar producto y cantidad.\n",
      "Escribe 2 para imprimir tu lista y salir.\n",
      "Su lista de compras es:\n",
      "- Manzanas: 3\n",
      "- Peras: 4\n"
     ]
    }
   ],
   "source": [
    "Lista = []\n",
    "\n",
    "while True: \n",
    "    print(\"Escribe 1 para ingresar producto y cantidad.\")\n",
    "    print(\"Escribe 2 para imprimir tu lista y salir.\")\n",
    "    \n",
    "    opcion = int(input(\"Ingresa el número de la opción: \"))\n",
    "    \n",
    "    if opcion == 1:\n",
    "        \n",
    "        Producto = input(\"Ingrese un producto a su lista: \")\n",
    "        Cantidad = input(\"Ingrese la cantidad: \")\n",
    "        \n",
    "   \n",
    "        Lista.append((Producto, Cantidad))\n",
    "        print(f\"Se agregó: {Producto} - {Cantidad}\")\n",
    "    \n",
    "    elif opcion == 2:\n",
    "        \n",
    "        print(\"Su lista de compras es:\")\n",
    "        for item in Lista:\n",
    "            print(f\"- {item[0]}: {item[1]}\")\n",
    "        break  \n",
    "    \n",
    "    else:\n",
    "        print(\"Opción no válida. Intenta de nuevo.\")"
   ]
  }
 ],
 "metadata": {
  "kernelspec": {
   "display_name": "Python 3",
   "language": "python",
   "name": "python3"
  },
  "language_info": {
   "codemirror_mode": {
    "name": "ipython",
    "version": 3
   },
   "file_extension": ".py",
   "mimetype": "text/x-python",
   "name": "python",
   "nbconvert_exporter": "python",
   "pygments_lexer": "ipython3",
   "version": "3.12.2"
  }
 },
 "nbformat": 4,
 "nbformat_minor": 2
}
