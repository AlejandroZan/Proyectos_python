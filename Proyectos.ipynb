{
 "cells": [
  {
   "cell_type": "markdown",
   "metadata": {},
   "source": [
    "Calculadora simple"
   ]
  },
  {
   "cell_type": "code",
   "execution_count": 10,
   "metadata": {},
   "outputs": [
    {
     "name": "stdout",
     "output_type": "stream",
     "text": [
      "No esta seleccionando ninguna de las operaciones indicadas\n"
     ]
    }
   ],
   "source": [
    "Pregunta = input('Seleccione el número de la operación que necesita: 1.Suma 2.Resta 3.Multiplicación 4.División ')\n",
    "num1 = input('Ingrese el primer número: ')\n",
    "num2 = input('Ingrese el segundo número: ')\n",
    "\n",
    "num1 = int(num1)\n",
    "num2 = int(num2)\n",
    "\n",
    "Pregunta = int(Pregunta)\n",
    "\n",
    "if Pregunta == 1:\n",
    "    respuesta = num1 + num2\n",
    "    print('La suma de los números es: ', respuesta)\n",
    "\n",
    "elif Pregunta == 2:\n",
    "    respuesta = num1 - num2\n",
    "    print('La resta de los números es: ', respuesta)\n",
    "elif Pregunta == 3:\n",
    "    respuesta = num1 * num2\n",
    "    print('La multiplicación de los números es: ', respuesta)\n",
    "elif Pregunta == 4:\n",
    "    respuesta = num1 / num2\n",
    "    print('La divisón de los números es: ', respuesta)\n",
    "else:\n",
    "    print('No esta seleccionando ninguna de las operaciones indicadas')"
   ]
  "metadata": {
  "kernelspec": {
   "display_name": "Python 3",
   "language": "python",
   "name": "python3"
  },
  "language_info": {
   "codemirror_mode": {
    "name": "ipython",
    "version": 3
   },
   "file_extension": ".py",
   "mimetype": "text/x-python",
   "name": "python",
   "nbconvert_exporter": "python",
   "pygments_lexer": "ipython3",
   "version": "3.12.2"
  }
 },
 "nbformat": 4,
 "nbformat_minor": 2
}
